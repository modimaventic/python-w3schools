{
  "nbformat": 4,
  "nbformat_minor": 0,
  "metadata": {
    "colab": {
      "provenance": [],
      "authorship_tag": "ABX9TyPiZrO0UjRGny4ga+XPJN/q",
      "include_colab_link": true
    },
    "kernelspec": {
      "name": "python3",
      "display_name": "Python 3"
    },
    "language_info": {
      "name": "python"
    }
  },
  "cells": [
    {
      "cell_type": "markdown",
      "metadata": {
        "id": "view-in-github",
        "colab_type": "text"
      },
      "source": [
        "<a href=\"https://colab.research.google.com/github/modimaventic/python-w3schools/blob/main/gradient_descent.ipynb\" target=\"_parent\"><img src=\"https://colab.research.google.com/assets/colab-badge.svg\" alt=\"Open In Colab\"/></a>"
      ]
    },
    {
      "cell_type": "code",
      "execution_count": 18,
      "metadata": {
        "id": "h6c5XNX6p4yH"
      },
      "outputs": [],
      "source": [
        "import numpy as np\n",
        "import pandas as pd\n",
        "import random\n",
        "import string\n",
        "\n",
        "data = []\n",
        "def g_des(x,y):\n",
        "  m_curr = b_curr = 0\n",
        "  itr = 10000\n",
        "  n=len(x)\n",
        "  lrate = 0.08\n",
        "\n",
        "  for i in range(itr):\n",
        "    y_pred = m_curr * x + b_curr\n",
        "    cost = (1/n) * sum([val**2 for val in (y-y_pred)])\n",
        "    md = -(2/n)*sum(x*(y-y_pred))\n",
        "    bd = -(2/n)*sum(y-y_pred)\n",
        "    m_curr = m_curr - (md * lrate)\n",
        "    b_curr = b_curr - (bd * lrate)\n",
        "    dt = [\"iteration\",i,\"m coefficient\",round(m_curr,5),\"constant/intercept\",round(b_curr,5),\"cost\",round(cost,50)]\n",
        "    data.append(dt)\n",
        "    # print(\"m {}, b {}, iteration {}\".format(round(m_curr,3),round(b_curr,3),i))\n",
        "\n",
        "\n",
        "# x axis\n",
        "x = np.array([1,2,3,4,5])\n",
        "# y axis\n",
        "y = np.array([5,7,9,11,13])\n",
        "\n",
        "# call the gradient descent function\n",
        "g_des(x,y)\n",
        "\n",
        "N=7\n",
        "# generate random file name\n",
        "res = ''.join(random.choices(string.ascii_uppercase +\n",
        "                             string.digits, k=N))\n",
        "res =str(res)\n",
        "\n",
        "# create a new csv file, write to the file element by element from the 2d list/array\n",
        "with open(res+'.csv','w') as file:\n",
        "  for i in data:\n",
        "    for j in i:\n",
        "      file.write(str(j)+\",\")\n",
        "    file.write(\"\\n\")\n"
      ]
    },
    {
      "cell_type": "code",
      "source": [],
      "metadata": {
        "id": "VuJcp1O-vjNF"
      },
      "execution_count": null,
      "outputs": []
    }
  ]
}